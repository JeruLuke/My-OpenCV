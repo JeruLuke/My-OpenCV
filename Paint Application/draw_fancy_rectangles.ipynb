{
 "cells": [
  {
   "cell_type": "code",
   "execution_count": 1,
   "metadata": {
    "collapsed": true
   },
   "outputs": [],
   "source": [
    "import cv2\n",
    "import numpy as np\n",
    "\n",
    "# ============================================================================\n",
    "\n",
    "def draw_border(img, pt1, pt2, color, thickness, r, d):\n",
    "    x1,y1 = pt1\n",
    "    x2,y2 = pt2\n",
    "\n",
    "    # Top left\n",
    "    cv2.line(img, (x1 + r, y1), (x1 + r + d, y1), color, thickness)\n",
    "    cv2.line(img, (x1, y1 + r), (x1, y1 + r + d), color, thickness)\n",
    "    cv2.ellipse(img, (x1 + r, y1 + r), (r, r), 180, 0, 90, color, thickness)\n",
    "\n",
    "    # Top right\n",
    "    cv2.line(img, (x2 - r, y1), (x2 - r - d, y1), color, thickness)\n",
    "    cv2.line(img, (x2, y1 + r), (x2, y1 + r + d), color, thickness)\n",
    "    cv2.ellipse(img, (x2 - r, y1 + r), (r, r), 270, 0, 90, color, thickness)\n",
    "\n",
    "    # Bottom left\n",
    "    cv2.line(img, (x1 + r, y2), (x1 + r + d, y2), color, thickness)\n",
    "    cv2.line(img, (x1, y2 - r), (x1, y2 - r - d), color, thickness)\n",
    "    cv2.ellipse(img, (x1 + r, y2 - r), (r, r), 90, 0, 90, color, thickness)\n",
    "\n",
    "    # Bottom right\n",
    "    cv2.line(img, (x2 - r, y2), (x2 - r - d, y2), color, thickness)\n",
    "    cv2.line(img, (x2, y2 - r), (x2, y2 - r - d), color, thickness)\n",
    "    cv2.ellipse(img, (x2 - r, y2 - r), (r, r), 0, 0, 90, color, thickness)\n",
    "\n",
    "# ============================================================================\n",
    "\n",
    "img = np.zeros((256,256,3), dtype=np.uint8)\n",
    "\n",
    "draw_border(img, (10,10), (100, 100), (127,255,255), 1, 10, 20)\n",
    "draw_border(img, (128,128), (240, 160), (255,255,127), 1, 5, 5)\n",
    "\n",
    "cv2.imshow('round_rect.png', img)\n",
    "\n",
    "cv2.waitKey()\n",
    "cv2.destroyAllWindows()\n"
   ]
  },
  {
   "cell_type": "code",
   "execution_count": null,
   "metadata": {
    "collapsed": true
   },
   "outputs": [],
   "source": []
  }
 ],
 "metadata": {
  "kernelspec": {
   "display_name": "Python 2",
   "language": "python",
   "name": "python2"
  },
  "language_info": {
   "codemirror_mode": {
    "name": "ipython",
    "version": 2
   },
   "file_extension": ".py",
   "mimetype": "text/x-python",
   "name": "python",
   "nbconvert_exporter": "python",
   "pygments_lexer": "ipython2",
   "version": "2.7.13"
  }
 },
 "nbformat": 4,
 "nbformat_minor": 0
}
